{
  "metadata": {
    "language_info": {
      "codemirror_mode": {
        "name": "python",
        "version": 3
      },
      "file_extension": ".py",
      "mimetype": "text/x-python",
      "name": "python",
      "nbconvert_exporter": "python",
      "pygments_lexer": "ipython3",
      "version": "3.8"
    },
    "kernelspec": {
      "name": "python",
      "display_name": "Pyolite",
      "language": "python"
    }
  },
  "nbformat_minor": 4,
  "nbformat": 4,
  "cells": [
    {
      "cell_type": "markdown",
      "source": "# My Jupyter Notebook on IBM Watson Studio",
      "metadata": {
        "tags": []
      }
    },
    {
      "cell_type": "markdown",
      "source": "Caroline Muthoni Wachira\n__string__ or **string**\nMedical Product Specialist ",
      "metadata": {}
    },
    {
      "cell_type": "markdown",
      "source": "I am interested in Data Science escpecialy in the field of Healthcare for prediction of disease  surveillance _string_ or *string*",
      "metadata": {}
    },
    {
      "cell_type": "markdown",
      "source": "### Disease Prevalance",
      "metadata": {}
    },
    {
      "cell_type": "code",
      "source": "1+1",
      "metadata": {
        "trusted": true
      },
      "execution_count": 2,
      "outputs": [
        {
          "execution_count": 2,
          "output_type": "execute_result",
          "data": {
            "text/plain": "2"
          },
          "metadata": {}
        }
      ]
    },
    {
      "cell_type": "markdown",
      "source": "https://skills.network/\n\n| header | header |\n| ------ | ------ |\n| cell | cell |\n*  \n    *  \n1.  \n2.  ",
      "metadata": {}
    },
    {
      "cell_type": "code",
      "source": "",
      "metadata": {},
      "execution_count": null,
      "outputs": []
    }
  ]
}